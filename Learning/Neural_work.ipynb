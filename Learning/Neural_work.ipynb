{
 "cells": [
  {
   "cell_type": "markdown",
   "id": "d1e8888d-3c5c-4ab5-ac92-dedb1f9010f9",
   "metadata": {},
   "source": [
    "# Building Neural Network from scracth\n",
    "\n",
    "In this notebook, i aim to learn more about neural network as well as building ones along the way.\n",
    "But before we go into the deep about neural network, let's get to know much more about the *`Neural netork`*. Artificial neuron are inspired by biological neurons in our brains.\n"
   ]
  },
  {
   "cell_type": "markdown",
   "id": "9ab699b9-0de4-41b3-ac06-e99b89cd073b",
   "metadata": {},
   "source": [
    "## Biological neuron workings: Quick view\n",
    "In our brains, a biologicla neuron receives `signals` from other neurons through structures called `dendrites`, then these signals are processed in the cell body to function, and if the combines signal is strong enough, the `neuron` `fires`, sending a signal through its `axon`(In charge to transmits the electrical impulses, signals or simply the action potentials from the cell body to other neurons) to other neurons.  "
   ]
  },
  {
   "cell_type": "code",
   "execution_count": 3,
   "id": "a6cf7b44-01ea-4276-bb87-4607a0705f45",
   "metadata": {},
   "outputs": [
    {
     "data": {
      "text/html": [
       "<img src=\"https://upload.wikimedia.org/wikipedia/commons/thumb/1/10/Blausen_0657_MultipolarNeuron.png/960px-Blausen_0657_MultipolarNeuron.png\"/>"
      ],
      "text/plain": [
       "<IPython.core.display.Image object>"
      ]
     },
     "execution_count": 3,
     "metadata": {},
     "output_type": "execute_result"
    }
   ],
   "source": [
    "# Displaying the Biological Neuron parts\n",
    "from IPython.display import Image\n",
    "\n",
    "# Link from the Wikipedia\n",
    "url = \"https://upload.wikimedia.org/wikipedia/commons/thumb/1/10/Blausen_0657_MultipolarNeuron.png/960px-Blausen_0657_MultipolarNeuron.png\"\n",
    "# Display the image\n",
    "Image(url=url)\n"
   ]
  },
  {
   "cell_type": "code",
   "execution_count": null,
   "id": "34d1824f-4529-402a-8e52-c3ba413058ed",
   "metadata": {},
   "outputs": [],
   "source": []
  }
 ],
 "metadata": {
  "kernelspec": {
   "display_name": "Python [conda env:base] *",
   "language": "python",
   "name": "conda-base-py"
  },
  "language_info": {
   "codemirror_mode": {
    "name": "ipython",
    "version": 3
   },
   "file_extension": ".py",
   "mimetype": "text/x-python",
   "name": "python",
   "nbconvert_exporter": "python",
   "pygments_lexer": "ipython3",
   "version": "3.12.7"
  }
 },
 "nbformat": 4,
 "nbformat_minor": 5
}
