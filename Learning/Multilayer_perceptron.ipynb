{
  "nbformat": 4,
  "nbformat_minor": 0,
  "metadata": {
    "colab": {
      "provenance": []
    },
    "kernelspec": {
      "name": "python3",
      "display_name": "Python 3"
    },
    "language_info": {
      "name": "python"
    }
  },
  "cells": [
    {
      "cell_type": "markdown",
      "source": [
        "# Training an MLP on MNIST with Numpy\n",
        "\n",
        "In this Notebook we will implement and train Multi-Layer Perceptron on the MNIST dataset."
      ],
      "metadata": {
        "id": "VpZtoPcE5pmE"
      }
    },
    {
      "cell_type": "markdown",
      "source": [
        "## Load and prepare the Dataset"
      ],
      "metadata": {
        "id": "Qbp7QMLL6Oz_"
      }
    },
    {
      "cell_type": "code",
      "execution_count": 23,
      "metadata": {
        "colab": {
          "base_uri": "https://localhost:8080/"
        },
        "id": "aju3HXLx5cd_",
        "outputId": "945f9c0e-a4cb-421b-8153-f605acc8d6ed"
      },
      "outputs": [
        {
          "output_type": "stream",
          "name": "stdout",
          "text": [
            "Requirement already satisfied: scikit-learn in /usr/local/lib/python3.11/dist-packages (1.6.1)\n",
            "Requirement already satisfied: numpy>=1.19.5 in /usr/local/lib/python3.11/dist-packages (from scikit-learn) (2.0.2)\n",
            "Requirement already satisfied: scipy>=1.6.0 in /usr/local/lib/python3.11/dist-packages (from scikit-learn) (1.16.0)\n",
            "Requirement already satisfied: joblib>=1.2.0 in /usr/local/lib/python3.11/dist-packages (from scikit-learn) (1.5.1)\n",
            "Requirement already satisfied: threadpoolctl>=3.1.0 in /usr/local/lib/python3.11/dist-packages (from scikit-learn) (3.6.0)\n"
          ]
        }
      ],
      "source": [
        "!pip install scikit-learn"
      ]
    },
    {
      "cell_type": "code",
      "source": [
        "from sklearn.datasets import fetch_openml\n",
        "X, y = fetch_openml('mnist_784', version=1, return_X_y = True)\n",
        "X = X.values # To return the values into array\n",
        "y = y.astype(int).values"
      ],
      "metadata": {
        "id": "ZYT3ZHVt6aHx"
      },
      "execution_count": 24,
      "outputs": []
    },
    {
      "cell_type": "code",
      "source": [
        "# Preprocessing the data\n",
        "X = ((X / 255.0) - .5) * 2 # Here we rescale the pixel values to train more effectively"
      ],
      "metadata": {
        "id": "tXrZ6Ty_7AZ7"
      },
      "execution_count": 25,
      "outputs": []
    },
    {
      "cell_type": "code",
      "source": [
        "# Visualize our sample digits\n",
        "import matplotlib.pyplot as plt\n",
        "\n",
        "fig, ax = plt.subplots(nrows=2, ncols=5, sharex=True, sharey=True)\n",
        "\n",
        "ax = ax.flatten()\n",
        "for i in range(10):\n",
        "    img = X[y == i][0].reshape(28, 28)\n",
        "    ax[i].imshow(img, cmap='Greys')\n",
        "ax[0].set_xticks([])\n",
        "ax[0].set_yticks([])\n",
        "plt.tight_layout()\n",
        "plt.show()"
      ],
      "metadata": {
        "colab": {
          "base_uri": "https://localhost:8080/",
          "height": 338
        },
        "id": "tzvsZByX7Ott",
        "outputId": "83757a09-876f-4611-8344-438535f891a0"
      },
      "execution_count": 26,
      "outputs": [
        {
          "output_type": "display_data",
          "data": {
            "text/plain": [
              "<Figure size 640x480 with 10 Axes>"
            ],
            "image/png": "[encoded data removed]"
          },
          "metadata": {}
        }
      ]
    },
    {
      "cell_type": "markdown",
      "source": [
        "## Train-Validation-Test split"
      ],
      "metadata": {
        "id": "Le_p-mRx78PL"
      }
    },
    {
      "cell_type": "code",
      "source": [
        "from sklearn.model_selection import train_test_split\n",
        "\n",
        "X_train, X_test, y_train, y_test = train_test_split(X, y, test_size=10000, random_state=123)\n",
        "\n",
        "X_train, X_val, y_train, y_val = train_test_split(X_train, y_train, train_size=55000, random_state=123)"
      ],
      "metadata": {
        "id": "JEgkQHGi7lWi"
      },
      "execution_count": 27,
      "outputs": []
    },
    {
      "cell_type": "code",
      "source": [
        "X_train.shape, X_val.shape, X_test.shape"
      ],
      "metadata": {
        "colab": {
          "base_uri": "https://localhost:8080/"
        },
        "id": "gCo6US22_1FV",
        "outputId": "3e015c97-8d7a-4f30-c263-16753b7d721f"
      },
      "execution_count": 28,
      "outputs": [
        {
          "output_type": "execute_result",
          "data": {
            "text/plain": [
              "((55000, 784), (5000, 784), (10000, 784))"
            ]
          },
          "metadata": {},
          "execution_count": 28
        }
      ]
    },
    {
      "cell_type": "code",
      "source": [
        "y_train.shape, y_val.shape, y_test.shape"
      ],
      "metadata": {
        "colab": {
          "base_uri": "https://localhost:8080/"
        },
        "id": "dhEzSNOfATni",
        "outputId": "651fa1b2-e9c9-45b6-e50e-f6d0101d1fe1"
      },
      "execution_count": 29,
      "outputs": [
        {
          "output_type": "execute_result",
          "data": {
            "text/plain": [
              "((55000,), (5000,), (10000,))"
            ]
          },
          "metadata": {},
          "execution_count": 29
        }
      ]
    },
    {
      "cell_type": "markdown",
      "source": [
        "## Create Mini - batches"
      ],
      "metadata": {
        "id": "JCVmwdeA-T0W"
      }
    },
    {
      "cell_type": "code",
      "source": [
        "!pip install numpy\n",
        "\n",
        "import numpy as np"
      ],
      "metadata": {
        "colab": {
          "base_uri": "https://localhost:8080/"
        },
        "id": "i-sjXDxq-_LZ",
        "outputId": "39c98451-f3e0-43bd-8038-da1d2ee0c0d1"
      },
      "execution_count": 30,
      "outputs": [
        {
          "output_type": "stream",
          "name": "stdout",
          "text": [
            "Requirement already satisfied: numpy in /usr/local/lib/python3.11/dist-packages (2.0.2)\n"
          ]
        }
      ]
    },
    {
      "cell_type": "code",
      "source": [
        "def minibatch_generator(X, y, minibatch_size):\n",
        "    indices = np.arange(X.shape[0])\n",
        "    np.random.shuffle(indices)\n",
        "    for start_idx in range(0, indices.shape[0] - minibatch_size + 1, minibatch_size):\n",
        "        batch_idx = indices[start_idx:start_idx + minibatch_size]\n",
        "        yield X[batch_idx], y[batch_idx]"
      ],
      "metadata": {
        "id": "KGmgitda-cX6"
      },
      "execution_count": 31,
      "outputs": []
    },
    {
      "cell_type": "markdown",
      "source": [
        "## Core componets of MLP"
      ],
      "metadata": {
        "id": "_Th-xcVsBBhW"
      }
    },
    {
      "cell_type": "markdown",
      "source": [
        "### Linear Layer"
      ],
      "metadata": {
        "id": "ondGG3A3BctF"
      }
    },
    {
      "cell_type": "code",
      "source": [
        "class Linear:\n",
        "    def __init__(self, in_features, out_features):\n",
        "        # TODO\n",
        "        self.weight = np.random.rand(in_features, out_features)  # Initialize the weight randomly.\n",
        "        self.bias = np.zeros(out_features) # Initialize the bias to all zeros.\n",
        "\n",
        "        self.grad_weight = np.zeros((in_features, out_features)) # Initialize the weight gradient to zeros. The shape should same as self.weight\n",
        "        self.grad_bias = np.zeros(out_features) # Initialize the bias gradient to zeros. The shape should same as self.bias\n",
        "\n",
        "    def __call__(self, x):\n",
        "        return self.forward(x)\n",
        "\n",
        "    def forward(self, x):\n",
        "        self.input = x # Do not remove. Needed for backward computation\n",
        "\n",
        "        # The general Linear equation\n",
        "        output = np.dot(x, self.weight) + self.bias # TODO: Compute the net input based in the linear equation.\n",
        "        return output\n",
        "\n",
        "    def backward(self, grad_output):\n",
        "        grad_input = np.dot(grad_output, self.weight.T)\n",
        "\n",
        "        self.grad_weight[...] = np.dot(self.input.T, grad_output)\n",
        "        self.grad_bias[...] = np.mean(grad_output, axis=0)\n",
        "        return grad_input\n",
        "\n",
        "    def parameters(self):\n",
        "        \"\"\"Returns the parameters of your linear layer\"\"\"\n",
        "        return [self.weight, self.bias]\n",
        "\n",
        "    def gradients(self):\n",
        "        \"\"\"Returns the gradients for the parameters of your linear layer\"\"\"\n",
        "        return [self.grad_weight, self.grad_bias]"
      ],
      "metadata": {
        "id": "JigcHDre_H7K"
      },
      "execution_count": 32,
      "outputs": []
    },
    {
      "cell_type": "markdown",
      "source": [
        "### Sigmoid Activation Function"
      ],
      "metadata": {
        "id": "tl8FfgXoE3fv"
      }
    },
    {
      "cell_type": "code",
      "source": [
        "class Sigmoid:\n",
        "    def __call__(self, x):\n",
        "        return self.forward(x)\n",
        "\n",
        "    def forward(self, x):\n",
        "        self.output = 1 /(1 + np.exp(x)) # TODO: Compute the sigmoid equation\n",
        "        return self.output\n",
        "\n",
        "    def backward(self, grad_output):\n",
        "        return grad_output * self.output * (1 - self.output)"
      ],
      "metadata": {
        "id": "gLTfqUjJC6hD"
      },
      "execution_count": 33,
      "outputs": []
    },
    {
      "cell_type": "markdown",
      "source": [
        "### Mean Squared Error Loss"
      ],
      "metadata": {
        "id": "xTknGyJUG2nR"
      }
    },
    {
      "cell_type": "code",
      "source": [
        "class MSELoss:\n",
        "    def __call__(self, pred, target):\n",
        "        return self.forward(pred, target)\n",
        "\n",
        "    def forward(self, pred, target):\n",
        "        self.pred = pred # Do not remove. Needed for backward computation\n",
        "        self.target = target # Do not remove. Needed for backward computation\n",
        "        error = np.mean((self.pred - self.target)**2) # TODO: Compute the mean square error function\n",
        "        return error\n",
        "\n",
        "    def backward(self):\n",
        "        return 2. * (self.pred - self.target) / self.target.shape[0]"
      ],
      "metadata": {
        "id": "kKJGl_M9Gx5R"
      },
      "execution_count": 34,
      "outputs": []
    },
    {
      "cell_type": "markdown",
      "source": [
        "## Gradient Descent Optimizer"
      ],
      "metadata": {
        "id": "knZ4FDH0Jyip"
      }
    },
    {
      "cell_type": "code",
      "source": [
        "class SGD:\n",
        "    def __init__(self, params, grads, lr=0.1):\n",
        "        self.params = params\n",
        "        self.grads = grads\n",
        "        self.lr = lr\n",
        "\n",
        "    def step(self):\n",
        "        \"\"\"Update the parameters (weight and bias) of your netork using the Gradient Descent algorithm.\"\"\"\n",
        "        for p, g in zip(self.params, self.grads):\n",
        "            p -= self.lr * g # gradient descent\n",
        "\n",
        "    def zero_grad(self):\n",
        "        \"\"\"Zeros out the gradient of your network\"\"\"\n",
        "        for g in self.grads:\n",
        "            g.fill(0.0)"
      ],
      "metadata": {
        "id": "wZzvA7ZAJKG5"
      },
      "execution_count": 35,
      "outputs": []
    },
    {
      "cell_type": "markdown",
      "source": [
        "## Assembling the MLP"
      ],
      "metadata": {
        "id": "oZ5iQiFlKcK-"
      }
    },
    {
      "cell_type": "code",
      "source": [
        "class MLP:\n",
        "    def __init__(self, in_features, hidden_size, out_features):\n",
        "        # TODO Initialize your network\n",
        "\n",
        "        # Do not change this variable names. The are needed for backward computation\n",
        "        self.linear1 = Linear(in_features, hidden_size)\n",
        "        self.act1 = Sigmoid()\n",
        "        self.linear2 = Linear(hidden_size, out_features)\n",
        "        self.act2 = Sigmoid()\n",
        "\n",
        "    def __call__(self, x):\n",
        "        return self.forward(x)\n",
        "\n",
        "    def forward(self, x):\n",
        "        \"\"\"Forward propagation through your network\"\"\"\n",
        "        # TODO Pass x (input) to your network and get y (output)\n",
        "        z1 = self.linear1(x) # For the net input of the hidden layer\n",
        "        a1 = self.act1(z1) # Activation for the hidden layer\n",
        "        z2 = self.linear2(a1)\n",
        "        y = self.act2(z2) # Activation of the hidden layer\n",
        "        return y\n",
        "\n",
        "    def backward(self, grad_output):\n",
        "        \"\"\"Backpropagation through your network\"\"\"\n",
        "        grad_z2 = self.act2.backward(grad_output)\n",
        "        grad_a1 = self.linear2.backward(grad_z2)\n",
        "\n",
        "        grad_z1 = self.act1.backward(grad_a1)\n",
        "        _ = self.linear1.backward(grad_z1)\n",
        "\n",
        "    def parameters(self):\n",
        "        \"\"\"Return the parameters of your entire model/network\"\"\"\n",
        "        return self.linear1.parameters() + self.linear2.parameters()\n",
        "\n",
        "    def gradients(self):\n",
        "        \"\"\"Return the gradients of your entire model/network\"\"\"\n",
        "        return self.linear1.gradients() + self.linear2.gradients()"
      ],
      "metadata": {
        "id": "lDvGNaGeKYvi"
      },
      "execution_count": 36,
      "outputs": []
    },
    {
      "cell_type": "markdown",
      "source": [
        "## Training and Evaluation"
      ],
      "metadata": {
        "id": "MQzJ5AFFPuN8"
      }
    },
    {
      "cell_type": "code",
      "source": [
        "# Converting the integer laberl to one-hot vectors\n",
        "# And we use `One-Hot encoding` for support comparison scope\n",
        "def int_to_onehot(y, num_labels=10):\n",
        "      return np.eye(num_labels)[y]\n",
        "\n",
        "loss_fn = MSELoss() # Add the loss function"
      ],
      "metadata": {
        "id": "YBAG70rMQQwP"
      },
      "execution_count": 37,
      "outputs": []
    },
    {
      "cell_type": "code",
      "source": [
        "def train(model, train_loader, optimizer, criterion):\n",
        "    total_loss = 0.0\n",
        "    num_samples = 0\n",
        "    for X_batch, y_batch in train_loader:\n",
        "        optimizer.zero_grad()\n",
        "\n",
        "        preds = model(X_batch)\n",
        "        loss = criterion(preds, int_to_onehot(y_batch))\n",
        "\n",
        "        grad_output = loss_fn.backward() # Gradient of the loss w.r.t output\n",
        "\n",
        "        model.backward(grad_output)\n",
        "        optimizer.step()\n",
        "\n",
        "        total_loss += loss\n",
        "        num_samples += len(y_batch)\n",
        "\n",
        "    return total_loss / num_samples"
      ],
      "metadata": {
        "id": "TvNu2zDrL_P6"
      },
      "execution_count": 38,
      "outputs": []
    },
    {
      "cell_type": "code",
      "source": [
        "# Computes the loss and accuracy on the validation set\n",
        "\n",
        "def valid(model, valid_loader, criterion):\n",
        "    total_loss = 0.0\n",
        "    correct_predictions = 0\n",
        "    total_predictions = 0\n",
        "    for X_batch, y_batch in valid_loader:\n",
        "        preds = model(X_batch)\n",
        "        loss = criterion(preds, int_to_onehot(y_batch))\n",
        "\n",
        "        total_loss += loss\n",
        "\n",
        "        predicted_labels = np.argmax(preds, axis=1)\n",
        "        correct_predictions += (predicted_labels == y_batch).sum()\n",
        "        total_predictions += len(y_batch)\n",
        "\n",
        "    total_loss /= total_predictions\n",
        "    accuracy = (correct_predictions / total_predictions)*100\n",
        "    return total_loss, accuracy"
      ],
      "metadata": {
        "id": "1Wni0kH2Re2g"
      },
      "execution_count": 39,
      "outputs": []
    },
    {
      "cell_type": "markdown",
      "source": [
        "## Instantiate Model, Loss function and Optimizer"
      ],
      "metadata": {
        "id": "fJ02EHgxSaZc"
      }
    },
    {
      "cell_type": "code",
      "source": [
        "in_features = 28 * 28      # Each image is 28x28 pixels\n",
        "hidden_size = 50           # Size of the hidden layer (can experiment)\n",
        "out_features = 10          # One output per digit class (0-9)\n",
        "learning_rate = 0.1        # Step size for SGD updates\n",
        "\n",
        "np.random.seed(123)        # For reproducible results\n",
        "\n",
        "model = MLP(in_features=in_features, hidden_size=hidden_size, out_features=out_features)\n",
        "\n",
        "loss_fn = MSELoss()\n",
        "\n",
        "optimizer = SGD(model.parameters(), model.gradients(), lr=learning_rate)"
      ],
      "metadata": {
        "id": "yEU8sAMMRttN"
      },
      "execution_count": 40,
      "outputs": []
    },
    {
      "cell_type": "markdown",
      "source": [
        "## Training Loop"
      ],
      "metadata": {
        "id": "b0mCjfpmTGvP"
      }
    },
    {
      "cell_type": "code",
      "source": [
        "num_epochs = 70\n",
        "batch_size = 100\n",
        "\n",
        "for epoch in range(num_epochs):\n",
        "    # Usually in the PyTorch way, dataloader SHOULD NOT be in the epoch loop\n",
        "    train_loader = minibatch_generator(X_train, y_train, minibatch_size=batch_size)\n",
        "    valid_loader = minibatch_generator(X_val, y_val, minibatch_size=batch_size)\n",
        "\n",
        "    train_loss = train(model, train_loader, optimizer, criterion=loss_fn)\n",
        "    valid_loss, valid_acc = valid(model, valid_loader, criterion=loss_fn)\n",
        "\n",
        "    print(f\"Epoch: {epoch+1:02d}/{num_epochs} | Train MSE: {train_loss:.4f} | Valid MSE: {valid_loss:.4f} | Valid Acc: {valid_acc:.2f}%\")"
      ],
      "metadata": {
        "colab": {
          "base_uri": "https://localhost:8080/"
        },
        "id": "lHcGJOn_SucZ",
        "outputId": "7af0bf75-fa8b-4482-9a53-c8750dbdfa20"
      },
      "execution_count": 41,
      "outputs": [
        {
          "metadata": {
            "tags": null
          },
          "name": "stdout",
          "output_type": "stream",
          "text": [
            "Epoch: 01/70 | Train MSE: 0.0010 | Valid MSE: 0.0010 | Valid Acc: 9.58%\n",
            "Epoch: 02/70 | Train MSE: 0.0010 | Valid MSE: 0.0010 | Valid Acc: 9.58%\n",
            "Epoch: 03/70 | Train MSE: 0.0010 | Valid MSE: 0.0010 | Valid Acc: 9.58%\n",
            "Epoch: 04/70 | Train MSE: 0.0010 | Valid MSE: 0.0010 | Valid Acc: 9.58%\n",
            "Epoch: 05/70 | Train MSE: 0.0010 | Valid MSE: 0.0010 | Valid Acc: 9.58%\n",
            "Epoch: 06/70 | Train MSE: 0.0010 | Valid MSE: 0.0010 | Valid Acc: 9.58%\n",
            "Epoch: 07/70 | Train MSE: 0.0010 | Valid MSE: 0.0010 | Valid Acc: 9.58%\n",
            "Epoch: 08/70 | Train MSE: 0.0010 | Valid MSE: 0.0010 | Valid Acc: 9.58%\n",
            "Epoch: 09/70 | Train MSE: 0.0010 | Valid MSE: 0.0010 | Valid Acc: 9.58%\n",
            "Epoch: 10/70 | Train MSE: 0.0010 | Valid MSE: 0.0010 | Valid Acc: 9.58%\n",
            "Epoch: 11/70 | Train MSE: 0.0010 | Valid MSE: 0.0010 | Valid Acc: 9.58%\n",
            "Epoch: 12/70 | Train MSE: 0.0010 | Valid MSE: 0.0010 | Valid Acc: 9.58%\n",
            "Epoch: 13/70 | Train MSE: 0.0010 | Valid MSE: 0.0010 | Valid Acc: 9.58%\n",
            "Epoch: 14/70 | Train MSE: 0.0010 | Valid MSE: 0.0010 | Valid Acc: 9.58%\n",
            "Epoch: 15/70 | Train MSE: 0.0010 | Valid MSE: 0.0010 | Valid Acc: 9.58%\n",
            "Epoch: 16/70 | Train MSE: 0.0010 | Valid MSE: 0.0010 | Valid Acc: 9.58%\n",
            "Epoch: 17/70 | Train MSE: 0.0010 | Valid MSE: 0.0010 | Valid Acc: 9.58%\n",
            "Epoch: 18/70 | Train MSE: 0.0010 | Valid MSE: 0.0010 | Valid Acc: 9.58%\n",
            "Epoch: 19/70 | Train MSE: 0.0010 | Valid MSE: 0.0010 | Valid Acc: 9.58%\n",
            "Epoch: 20/70 | Train MSE: 0.0010 | Valid MSE: 0.0010 | Valid Acc: 9.58%\n",
            "Epoch: 21/70 | Train MSE: 0.0010 | Valid MSE: 0.0010 | Valid Acc: 9.58%\n",
            "Epoch: 22/70 | Train MSE: 0.0010 | Valid MSE: 0.0010 | Valid Acc: 9.58%\n",
            "Epoch: 23/70 | Train MSE: 0.0010 | Valid MSE: 0.0010 | Valid Acc: 9.58%\n",
            "Epoch: 24/70 | Train MSE: 0.0010 | Valid MSE: 0.0010 | Valid Acc: 9.58%\n",
            "Epoch: 25/70 | Train MSE: 0.0010 | Valid MSE: 0.0010 | Valid Acc: 9.58%\n",
            "Epoch: 26/70 | Train MSE: 0.0010 | Valid MSE: 0.0010 | Valid Acc: 9.58%\n",
            "Epoch: 27/70 | Train MSE: 0.0010 | Valid MSE: 0.0010 | Valid Acc: 9.58%\n",
            "Epoch: 28/70 | Train MSE: 0.0010 | Valid MSE: 0.0010 | Valid Acc: 9.58%\n",
            "Epoch: 29/70 | Train MSE: 0.0010 | Valid MSE: 0.0010 | Valid Acc: 9.58%\n",
            "Epoch: 30/70 | Train MSE: 0.0010 | Valid MSE: 0.0010 | Valid Acc: 9.58%\n",
            "Epoch: 31/70 | Train MSE: 0.0010 | Valid MSE: 0.0010 | Valid Acc: 9.58%\n",
            "Epoch: 32/70 | Train MSE: 0.0010 | Valid MSE: 0.0010 | Valid Acc: 9.58%\n",
            "Epoch: 33/70 | Train MSE: 0.0010 | Valid MSE: 0.0010 | Valid Acc: 9.58%\n",
            "Epoch: 34/70 | Train MSE: 0.0010 | Valid MSE: 0.0010 | Valid Acc: 9.58%\n",
            "Epoch: 35/70 | Train MSE: 0.0010 | Valid MSE: 0.0010 | Valid Acc: 9.58%\n",
            "Epoch: 36/70 | Train MSE: 0.0010 | Valid MSE: 0.0010 | Valid Acc: 9.58%\n",
            "Epoch: 37/70 | Train MSE: 0.0010 | Valid MSE: 0.0010 | Valid Acc: 9.58%\n",
            "Epoch: 38/70 | Train MSE: 0.0010 | Valid MSE: 0.0010 | Valid Acc: 9.58%\n",
            "Epoch: 39/70 | Train MSE: 0.0010 | Valid MSE: 0.0010 | Valid Acc: 9.58%\n",
            "Epoch: 40/70 | Train MSE: 0.0010 | Valid MSE: 0.0010 | Valid Acc: 9.58%\n",
            "Epoch: 41/70 | Train MSE: 0.0010 | Valid MSE: 0.0010 | Valid Acc: 9.58%\n",
            "Epoch: 42/70 | Train MSE: 0.0010 | Valid MSE: 0.0010 | Valid Acc: 9.58%\n",
            "Epoch: 43/70 | Train MSE: 0.0010 | Valid MSE: 0.0010 | Valid Acc: 9.58%\n",
            "Epoch: 44/70 | Train MSE: 0.0010 | Valid MSE: 0.0010 | Valid Acc: 9.58%\n",
            "Epoch: 45/70 | Train MSE: 0.0010 | Valid MSE: 0.0010 | Valid Acc: 9.58%\n",
            "Epoch: 46/70 | Train MSE: 0.0010 | Valid MSE: 0.0010 | Valid Acc: 9.58%\n",
            "Epoch: 47/70 | Train MSE: 0.0010 | Valid MSE: 0.0010 | Valid Acc: 9.58%\n",
            "Epoch: 48/70 | Train MSE: 0.0010 | Valid MSE: 0.0010 | Valid Acc: 9.58%\n",
            "Epoch: 49/70 | Train MSE: 0.0010 | Valid MSE: 0.0010 | Valid Acc: 9.58%\n",
            "Epoch: 50/70 | Train MSE: 0.0010 | Valid MSE: 0.0010 | Valid Acc: 9.58%\n",
            "Epoch: 51/70 | Train MSE: 0.0010 | Valid MSE: 0.0010 | Valid Acc: 9.58%\n",
            "Epoch: 52/70 | Train MSE: 0.0010 | Valid MSE: 0.0010 | Valid Acc: 9.58%\n",
            "Epoch: 53/70 | Train MSE: 0.0010 | Valid MSE: 0.0010 | Valid Acc: 9.58%\n",
            "Epoch: 54/70 | Train MSE: 0.0010 | Valid MSE: 0.0010 | Valid Acc: 9.58%\n",
            "Epoch: 55/70 | Train MSE: 0.0010 | Valid MSE: 0.0010 | Valid Acc: 9.58%\n",
            "Epoch: 56/70 | Train MSE: 0.0010 | Valid MSE: 0.0010 | Valid Acc: 9.58%\n",
            "Epoch: 57/70 | Train MSE: 0.0010 | Valid MSE: 0.0010 | Valid Acc: 9.58%\n",
            "Epoch: 58/70 | Train MSE: 0.0010 | Valid MSE: 0.0010 | Valid Acc: 9.58%\n",
            "Epoch: 59/70 | Train MSE: 0.0010 | Valid MSE: 0.0010 | Valid Acc: 9.58%\n",
            "Epoch: 60/70 | Train MSE: 0.0010 | Valid MSE: 0.0010 | Valid Acc: 9.58%\n",
            "Epoch: 61/70 | Train MSE: 0.0010 | Valid MSE: 0.0010 | Valid Acc: 9.58%\n",
            "Epoch: 62/70 | Train MSE: 0.0010 | Valid MSE: 0.0010 | Valid Acc: 9.58%\n",
            "Epoch: 63/70 | Train MSE: 0.0010 | Valid MSE: 0.0010 | Valid Acc: 9.58%\n",
            "Epoch: 64/70 | Train MSE: 0.0010 | Valid MSE: 0.0010 | Valid Acc: 9.58%\n",
            "Epoch: 65/70 | Train MSE: 0.0010 | Valid MSE: 0.0010 | Valid Acc: 9.58%\n",
            "Epoch: 66/70 | Train MSE: 0.0010 | Valid MSE: 0.0010 | Valid Acc: 9.58%\n",
            "Epoch: 67/70 | Train MSE: 0.0010 | Valid MSE: 0.0010 | Valid Acc: 9.58%\n",
            "Epoch: 68/70 | Train MSE: 0.0010 | Valid MSE: 0.0010 | Valid Acc: 9.58%\n",
            "Epoch: 69/70 | Train MSE: 0.0010 | Valid MSE: 0.0010 | Valid Acc: 9.58%\n",
            "Epoch: 70/70 | Train MSE: 0.0010 | Valid MSE: 0.0010 | Valid Acc: 9.58%\n"
          ]
        }
      ]
    },
    {
      "cell_type": "code",
      "source": [
        "# Measure the final generalization\n",
        "def test(model, test_loader):\n",
        "    correct_predictions = 0\n",
        "    total_predictions = 0\n",
        "    for X_batch, y_batch in test_loader:\n",
        "        preds = model(X_batch)\n",
        "\n",
        "        predicted_labels = np.argmax(preds, axis=1)\n",
        "        correct_predictions += (predicted_labels == y_batch).sum()\n",
        "        total_predictions += len(y_batch)\n",
        "\n",
        "    accuracy = (correct_predictions / total_predictions)*100\n",
        "    return accuracy\n",
        "\n",
        "\n",
        "test_loader = minibatch_generator(X_test, y_test, minibatch_size=100)\n",
        "test_acc = test(model, test_loader)\n",
        "print(f'Test accuracy: {test_acc:.2f}%')#"
      ],
      "metadata": {
        "colab": {
          "base_uri": "https://localhost:8080/"
        },
        "id": "AWxJHsLfT1VM",
        "outputId": "bd8b3f25-1a76-4fb9-ef15-94207b89886f"
      },
      "execution_count": 42,
      "outputs": [
        {
          "metadata": {
            "tags": null
          },
          "name": "stdout",
          "output_type": "stream",
          "text": [
            "Test accuracy: 9.63%\n"
          ]
        }
      ]
    },
    {
      "cell_type": "code",
      "source": [],
      "metadata": {
        "id": "lxS_tqcRUiJQ"
      },
      "execution_count": 42,
      "outputs": []
    }
  ]
}