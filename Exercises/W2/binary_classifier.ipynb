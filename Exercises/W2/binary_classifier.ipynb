{
  "cells": [
    {
      "cell_type": "markdown",
      "metadata": {
        "id": "YyBMPcCTDXf_"
      },
      "source": [
        "# Binary Classification with MNIST - Detecting the digit 5\n",
        "\n",
        "In this exercise, we will build a *Binary Classifier* that can detect whether an image from MNIST dataset represents the digit 5 or not-5."
      ]
    },
    {
      "cell_type": "markdown",
      "metadata": {
        "id": "W-Bp0DsrC52_"
      },
      "source": [
        "## Installing the packages"
      ]
    },
    {
      "cell_type": "code",
      "execution_count": 1,
      "metadata": {
        "colab": {
          "base_uri": "https://localhost:8080/"
        },
        "id": "5EqitFZBCeAm",
        "outputId": "dc386499-fd49-4ea1-906d-c1c808b5fcb8"
      },
      "outputs": [
        {
          "name": "stdout",
          "output_type": "stream",
          "text": [
            "Requirement already satisfied: scikit-learn in /usr/local/lib/python3.11/dist-packages (1.6.1)\n",
            "Requirement already satisfied: numpy>=1.19.5 in /usr/local/lib/python3.11/dist-packages (from scikit-learn) (2.0.2)\n",
            "Requirement already satisfied: scipy>=1.6.0 in /usr/local/lib/python3.11/dist-packages (from scikit-learn) (1.15.3)\n",
            "Requirement already satisfied: joblib>=1.2.0 in /usr/local/lib/python3.11/dist-packages (from scikit-learn) (1.5.1)\n",
            "Requirement already satisfied: threadpoolctl>=3.1.0 in /usr/local/lib/python3.11/dist-packages (from scikit-learn) (3.6.0)\n",
            "Requirement already satisfied: numpy in /usr/local/lib/python3.11/dist-packages (2.0.2)\n"
          ]
        }
      ],
      "source": [
        "!pip install scikit-learn\n",
        "!pip install numpy"
      ]
    },
    {
      "cell_type": "markdown",
      "metadata": {
        "id": "_X1aaZVtGKo9"
      },
      "source": [
        "### Step 1\n",
        "\n",
        "Fetching the MNIST data samples using `sklearn.datasests` and `fetch_openml`."
      ]
    },
    {
      "cell_type": "code",
      "execution_count": 2,
      "metadata": {
        "id": "phJWVlD0DBnE"
      },
      "outputs": [],
      "source": [
        "from sklearn.datasets import fetch_openml\n",
        "\n",
        "mnist = fetch_openml('mnist_784', version='active')\n",
        "X, Y = mnist[\"data\"], mnist[\"target\"]"
      ]
    },
    {
      "cell_type": "markdown",
      "metadata": {
        "id": "jElozf9hGOCJ"
      },
      "source": [
        "### Step 2\n",
        "\n",
        "Splitting the data into `Train` and `Test` sets for 60000 samples and 10 samples respectively."
      ]
    },
    {
      "cell_type": "code",
      "execution_count": 3,
      "metadata": {
        "id": "o4texWhLFk1X"
      },
      "outputs": [],
      "source": [
        "# Training samples\n",
        "train = X[:60000]\n",
        "train_labels = Y[:60000]\n",
        "\n",
        "# Testing samples\n",
        "test = X[60000:]\n",
        "test_labels = Y[60000:]"
      ]
    },
    {
      "cell_type": "markdown",
      "metadata": {
        "id": "nLeM2-90HhMS"
      },
      "source": [
        "### Step 3\n",
        "\n",
        "Transforming `Train` and `Test` labels into boolean array for **5-detector**."
      ]
    },
    {
      "cell_type": "code",
      "execution_count": null,
      "metadata": {
        "colab": {
          "base_uri": "https://localhost:8080/",
          "height": 115
        },
        "id": "AS9BOhZvHbDN",
        "outputId": "e5684eb7-40c5-4025-e8b0-16bfa3889d9a"
      },
      "outputs": [],
      "source": [
        "import numpy as np\n",
        "\n",
        "# Use isin() on the pandas Series to create the binary labels\n",
        "train_labels_binary = train_labels.isin(['5']).astype(np.int64)\n",
        "test_labels_binary = test_labels.isin(['5']).astype(np.int64)\n",
        "\n",
        "\n",
        "print(f\"Unique values in train_labels_binary: {np.unique(train_labels_binary)}\")\n",
        "print(f\"Data type of train_labels_binary: {train_labels_binary.dtype}\")"
      ]
    },
    {
      "cell_type": "markdown",
      "metadata": {
        "id": "3qXJi11BKMqL"
      },
      "source": [
        "### Step 4\n",
        "\n",
        "Training SDG Classifier and test it on the new dat - `Testing samples`."
      ]
    },
    {
      "cell_type": "code",
      "execution_count": null,
      "metadata": {
        "colab": {
          "base_uri": "https://localhost:8080/"
        },
        "id": "t9qNk0GkPUCY",
        "outputId": "6714f0f6-d1ec-4c20-8055-3f1bb7c26e6e"
      },
      "outputs": [],
      "source": [
        "from sklearn.linear_model import SGDClassifier\n",
        "\n",
        "sgd_clf = SGDClassifier(random_state=42)\n",
        "sgd_clf.fit(train, train_labels_binary)\n",
        "\n",
        "# Predicting on test samples\n",
        "print(sgd_clf.predict(test))"
      ]
    }
  ],
  "metadata": {
    "colab": {
      "provenance": []
    },
    "kernelspec": {
      "display_name": "Python 3",
      "name": "python3"
    },
    "language_info": {
      "name": "python"
    }
  },
  "nbformat": 4,
  "nbformat_minor": 0
}
